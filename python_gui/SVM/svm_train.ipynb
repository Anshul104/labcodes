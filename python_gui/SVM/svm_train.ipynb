{
 "cells": [
  {
   "cell_type": "code",
   "execution_count": null,
   "metadata": {},
   "outputs": [],
   "source": [
    "def TrainSVM(path1, C_par, gamma_par):\n",
    "    import numpy as np\n",
    "    from sklearn import svm\n",
    "    import matplotlib.pyplot as plt\n",
    "    from sklearn.model_selection import train_test_split\n",
    "    import matplotlib as mpl\n",
    "    from scipy import io\n",
    "    from scipy.io import savemat\n",
    "    import joblib\n",
    "    \n",
    "#     path1 = 'C:/Users/Borod/Research/A. Matlab Programs/hBN project/programs2/Contrast2.mat'\n",
    "    data1 = io.loadmat(path1)\n",
    "    data1 = data1['AllCon']\n",
    "    RGB_data = data1[0:3, :]\n",
    "    label_data = data1[4, :]\n",
    "    \n",
    "    RGB_data = np.transpose(RGB_data)\n",
    "    train_data, test_data, train_label, test_label = train_test_split(RGB_data, label_data, random_state=1, train_size = 0.7, test_size = 0.3)\n",
    "    \n",
    "    svm_model = svm.SVC(C=C_par, kernel='rbf', gamma=gamma_par, decision_function_shape='ovr')\n",
    "    svm_model.fit(train_data, train_label)\n",
    "    \n",
    "#     print('TrainCase Score: ', svm_model.score(train_data, train_label))\n",
    "#     print('TestCase Score: ', svm_model.score(test_data, test_label))\n",
    "    ScoreDic = {\"TrainScore\": svm_model.score(train_data, train_label), \"TestScore\": svm_model.score(test_data, test_label)}\n",
    "    savemat(path1+\"Score.mat\", ScoreDic)\n",
    "    \n",
    "    R_min, R_max = RGB_data[:,0].min(), RGB_data[:,0].max()\n",
    "    G_min, G_max = RGB_data[:,1].min(), RGB_data[:,1].max()\n",
    "    B_min, B_max = RGB_data[:,2].min(), RGB_data[:,2].max()\n",
    "    R_ = np.linspace(R_min, R_max, 50)\n",
    "    G_ = np.linspace(G_min, G_max, 50)\n",
    "    B_ = np.linspace(B_min, B_max, 50)\n",
    "    Rs, Gs, Bs = np.meshgrid(R_, G_, B_, indexing='ij')\n",
    "    assert np.all(Rs[:,0,0] == R_)\n",
    "    assert np.all(Gs[0,:,0] == G_)\n",
    "    assert np.all(Bs[0,0,:] == B_)\n",
    "    \n",
    "    grid_test = np.stack((Rs.flat, Gs.flat, Bs.flat), axis=1)\n",
    "    grid_hat = svm_model.predict(grid_test)\n",
    "    grid_hat = grid_hat.reshape(Rs.shape)\n",
    "    \n",
    "    \n",
    "    mdic1 = {\"Rs\": Rs, \"Gs\" : Gs, \"Bs\" : Bs, \"grid_hat\" : grid_hat, \"RGB_data\" : RGB_data, \"label_data\" : label_data}\n",
    "#     C:/Users/Borod/Research/A. Matlab Programs/hBN project/programs3/\n",
    "    savemat(path1 + \"SVM_results.mat\", mdic1)\n",
    "    joblib.dump(svm_model, path1 + 'svm_model.m')"
   ]
  }
 ],
 "metadata": {
  "kernelspec": {
   "display_name": "Python 3",
   "language": "python",
   "name": "python3"
  },
  "language_info": {
   "codemirror_mode": {
    "name": "ipython",
    "version": 3
   },
   "file_extension": ".py",
   "mimetype": "text/x-python",
   "name": "python",
   "nbconvert_exporter": "python",
   "pygments_lexer": "ipython3",
   "version": "3.8.3"
  }
 },
 "nbformat": 4,
 "nbformat_minor": 4
}
